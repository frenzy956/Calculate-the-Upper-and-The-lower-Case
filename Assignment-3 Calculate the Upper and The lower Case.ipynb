{
 "cells": [
  {
   "cell_type": "markdown",
   "id": "5bd410a7",
   "metadata": {},
   "source": [
    "# Write a Python function that accepts a string and calculate the number of upper case letters and lower case letters."
   ]
  },
  {
   "cell_type": "markdown",
   "id": "53ae9fd2",
   "metadata": {},
   "source": [
    "### Sample String : 'The quick Brow Fox'"
   ]
  },
  {
   "cell_type": "markdown",
   "id": "6610e926",
   "metadata": {},
   "source": [
    "#### Expected Output :"
   ]
  },
  {
   "cell_type": "markdown",
   "id": "78f17abd",
   "metadata": {},
   "source": [
    "#### No. of Upper case characters : 3"
   ]
  },
  {
   "cell_type": "markdown",
   "id": "dbf490d9",
   "metadata": {},
   "source": [
    "#### No. of Lower case Characters : 12"
   ]
  },
  {
   "cell_type": "markdown",
   "id": "4f7e7b72",
   "metadata": {},
   "source": [
    "-------"
   ]
  },
  {
   "cell_type": "code",
   "execution_count": 1,
   "id": "9c047bba",
   "metadata": {},
   "outputs": [
    {
     "name": "stdout",
     "output_type": "stream",
     "text": [
      "No. of Upper case characters :  3\n",
      "No. of Lower case Characters :  12\n"
     ]
    }
   ],
   "source": [
    "def string_test(s):\n",
    "    d={\"UPPER_CASE\":0, \"LOWER_CASE\":0}\n",
    "    for c in s:\n",
    "        if c.isupper():\n",
    "           d[\"UPPER_CASE\"]+=1\n",
    "        elif c.islower():\n",
    "           d[\"LOWER_CASE\"]+=1\n",
    "        else:\n",
    "           pass\n",
    "    print (\"No. of Upper case characters : \", d[\"UPPER_CASE\"])\n",
    "    print (\"No. of Lower case Characters : \", d[\"LOWER_CASE\"])\n",
    "\n",
    "string_test('The quick Brow Fox')"
   ]
  }
 ],
 "metadata": {
  "kernelspec": {
   "display_name": "Python 3 (ipykernel)",
   "language": "python",
   "name": "python3"
  },
  "language_info": {
   "codemirror_mode": {
    "name": "ipython",
    "version": 3
   },
   "file_extension": ".py",
   "mimetype": "text/x-python",
   "name": "python",
   "nbconvert_exporter": "python",
   "pygments_lexer": "ipython3",
   "version": "3.9.0b2"
  }
 },
 "nbformat": 4,
 "nbformat_minor": 5
}
